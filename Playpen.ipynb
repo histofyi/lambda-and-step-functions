{
  "nbformat": 4,
  "nbformat_minor": 0,
  "metadata": {
    "colab": {
      "name": "Playpen.ipynb",
      "provenance": [],
      "authorship_tag": "ABX9TyPzZfp7U8VYORCdw3DQH7NJ",
      "include_colab_link": true
    },
    "kernelspec": {
      "name": "python3",
      "display_name": "Python 3"
    },
    "language_info": {
      "name": "python"
    }
  },
  "cells": [
    {
      "cell_type": "markdown",
      "metadata": {
        "id": "view-in-github",
        "colab_type": "text"
      },
      "source": [
        "<a href=\"https://colab.research.google.com/github/histofyi/lambda-and-step-functions/blob/master/Playpen.ipynb\" target=\"_parent\"><img src=\"https://colab.research.google.com/assets/colab-badge.svg\" alt=\"Open In Colab\"/></a>"
      ]
    },
    {
      "cell_type": "code",
      "metadata": {
        "id": "C2XFDBf411Ji"
      },
      "source": [
        "import pandas as pd\n",
        "\n",
        "url = 'https://raw.githubusercontent.com/histofyi/notebooks/main/data/test.csv'\n",
        "df = pd.read_csv(url)\n",
        "# Dataset is now stored in a Pandas Dataframe\n"
      ],
      "execution_count": 17,
      "outputs": []
    },
    {
      "cell_type": "code",
      "metadata": {
        "colab": {
          "base_uri": "https://localhost:8080/"
        },
        "id": "PkKH8blb2CeF",
        "outputId": "9c3cc2b5-eceb-4660-999a-db42b8c3fd35"
      },
      "source": [
        "print(df)\n"
      ],
      "execution_count": 18,
      "outputs": [
        {
          "output_type": "stream",
          "text": [
            "   locus  alleles\n",
            "0  hla-a      100\n",
            "1  hla-b       50\n",
            "2  hla-c       10\n"
          ],
          "name": "stdout"
        }
      ]
    },
    {
      "cell_type": "code",
      "metadata": {
        "colab": {
          "base_uri": "https://localhost:8080/"
        },
        "id": "ZGvcJv7b2U8w",
        "outputId": "747b7656-3d03-401d-ea92-8efc611ad495"
      },
      "source": [
        "list(df.columns.values)"
      ],
      "execution_count": 19,
      "outputs": [
        {
          "output_type": "execute_result",
          "data": {
            "text/plain": [
              "['locus', 'alleles']"
            ]
          },
          "metadata": {
            "tags": []
          },
          "execution_count": 19
        }
      ]
    }
  ]
}